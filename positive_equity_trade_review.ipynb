{
  "metadata": {
    "kernelspec": {
      "name": "python",
      "display_name": "Python (Pyodide)",
      "language": "python"
    },
    "language_info": {
      "codemirror_mode": {
        "name": "python",
        "version": 3
      },
      "file_extension": ".py",
      "mimetype": "text/x-python",
      "name": "python",
      "nbconvert_exporter": "python",
      "pygments_lexer": "ipython3",
      "version": "3.8"
    }
  },
  "nbformat_minor": 5,
  "nbformat": 4,
  "cells": [
    {
      "id": "10153677-79ab-427a-8e47-01c91bbcbbfb",
      "cell_type": "markdown",
      "source": "## Step 1: Import Libraries",
      "metadata": {
        "jp-MarkdownHeadingCollapsed": true
      }
    },
    {
      "id": "7a7b7db2-9e86-40ff-b618-a51b08edae73",
      "cell_type": "code",
      "source": "import pandas as pd\nfrom io import StringIO",
      "metadata": {
        "trusted": true
      },
      "outputs": [],
      "execution_count": 1
    },
    {
      "id": "8b5c4a07-736f-40e6-b383-6cbd116b1a8c",
      "cell_type": "markdown",
      "source": "## Step 2: Paste your raw trade data \n\nWhere to get the data?\n\nOpen TradeAndRisk tab and copy and paste all your trades between the 3 commas in the cell below.\n\n1. Click the top trade (it should turn blue) \n2. Then scroll to the bottom\n3. Press SHIFT + Click on the last value at the bottom. All trades sould turn blue\n4. Press CTRL + C\n5. Paste BETWEEN 3 commas, do not delete the 3 commas",
      "metadata": {
        "jp-MarkdownHeadingCollapsed": true
      }
    },
    {
      "id": "b0d6fe37-7fec-44fb-9ebf-0bf99dbf53d3",
      "cell_type": "code",
      "source": "raw_data = '''\n\"ProductID\"\t\"Buy/Sell\"\t\"Price\"\t\"Volume\"\t\"Entry Timestamp\"\n\"F.STS_FBTP.SEP25\"\t\"Buy\"\t\"121.47\"\t\"1\"\t\"12 Jun 2025 16:20:32.100\"\n\"F.STS_FBTP.SEP25\"\t\"Sell\"\t\"121.52\"\t\"1\"\t\"12 Jun 2025 16:14:56.045\"\n\"F.STS_FBTP.SEP25\"\t\"Sell\"\t\"121.45\"\t\"1\"\t\"12 Jun 2025 15:51:49.311\"\n\"F.STS_FBTP.SEP25\"\t\"Buy\"\t\"121.47\"\t\"1\"\t\"12 Jun 2025 15:51:23.469\"\n\"F.STS_FBTP.SEP25\"\t\"Buy\"\t\"121.41\"\t\"1\"\t\"12 Jun 2025 15:34:52.712\"\n\"F.STS_FBTP.SEP25\"\t\"Sell\"\t\"121.52\"\t\"1\"\t\"12 Jun 2025 15:24:22.389\"\n\"F.STS_FBTP.SEP25\"\t\"Sell\"\t\"121.37\"\t\"1\"\t\"12 Jun 2025 15:01:15.322\"\n\"F.STS_FBTP.SEP25\"\t\"Buy\"\t\"121.37\"\t\"1\"\t\"12 Jun 2025 15:01:06.022\"\n\"F.STS_FBTP.SEP25\"\t\"Buy\"\t\"121.39\"\t\"1\"\t\"12 Jun 2025 14:45:41.594\"\n\"F.STS_FBTP.SEP25\"\t\"Sell\"\t\"121.39\"\t\"1\"\t\"12 Jun 2025 14:45:33.330\"\n\"F.STS_FBTP.SEP25\"\t\"Sell\"\t\"121.37\"\t\"1\"\t\"12 Jun 2025 14:45:14.490\"\n\"F.STS_FBTP.SEP25\"\t\"Buy\"\t\"121.39\"\t\"1\"\t\"12 Jun 2025 14:45:00.636\"\n\"F.STS_FBTP.SEP25\"\t\"Sell\"\t\"121.38\"\t\"1\"\t\"12 Jun 2025 14:21:41.706\"\n\"F.STS_FBTP.SEP25\"\t\"Buy\"\t\"121.40\"\t\"1\"\t\"12 Jun 2025 14:21:40.292\"\n\"F.STS_FBTP.SEP25\"\t\"Buy\"\t\"121.43\"\t\"1\"\t\"12 Jun 2025 14:19:38.070\"\n\"F.STS_FBTP.SEP25\"\t\"Sell\"\t\"121.49\"\t\"1\"\t\"12 Jun 2025 14:11:51.769\"\n\"F.STS_FBTP.SEP25\"\t\"Sell\"\t\"121.5\"\t\"1\"\t\"12 Jun 2025 14:04:41.291\"\n\"F.STS_FBTP.SEP25\"\t\"Buy\"\t\"121.5\"\t\"1\"\t\"12 Jun 2025 14:04:03.653\"\n\"F.STS_FBTP.SEP25\"\t\"Buy\"\t\"121.53\"\t\"1\"\t\"12 Jun 2025 14:04:02.609\"\n\"F.STS_FBTP.SEP25\"\t\"Sell\"\t\"121.5\"\t\"1\"\t\"12 Jun 2025 14:03:48.924\"\n\"F.STS_FBTP.SEP25\"\t\"Sell\"\t\"121.5\"\t\"1\"\t\"12 Jun 2025 14:00:24.637\"\n\"F.STS_FBTP.SEP25\"\t\"Buy\"\t\"121.44\"\t\"1\"\t\"12 Jun 2025 13:57:47.277\"\n\"F.STS_FBTP.SEP25\"\t\"Buy\"\t\"121.44\"\t\"1\"\t\"12 Jun 2025 13:55:07.565\"\n\"F.STS_FBTP.SEP25\"\t\"Sell\"\t\"121.44\"\t\"1\"\t\"12 Jun 2025 13:47:27.596\"\n\"F.STS_FBTP.SEP25\"\t\"Sell\"\t\"121.39\"\t\"1\"\t\"12 Jun 2025 13:41:52.801\"\n\"F.STS_FBTP.SEP25\"\t\"Buy\"\t\"121.42\"\t\"1\"\t\"12 Jun 2025 13:40:33.435\"\n\"F.STS_FBTP.SEP25\"\t\"Sell\"\t\"121.42\"\t\"1\"\t\"12 Jun 2025 13:40:19.185\"\n\"F.STS_FBTP.SEP25\"\t\"Buy\"\t\"121.45\"\t\"1\"\t\"12 Jun 2025 13:40:10.115\"\n\"F.STS_FBTP.SEP25\"\t\"Sell\"\t\"121.44\"\t\"1\"\t\"12 Jun 2025 13:38:11.565\"\n\"F.STS_FBTP.SEP25\"\t\"Buy\"\t\"121.46\"\t\"1\"\t\"12 Jun 2025 13:37:59.829\"\n\"F.STS_FBTP.SEP25\"\t\"Sell\"\t\"121.46\"\t\"1\"\t\"12 Jun 2025 13:36:16.639\"\n\"F.STS_FBTP.SEP25\"\t\"Buy\"\t\"121.48\"\t\"1\"\t\"12 Jun 2025 13:30:21.424\"\n\"F.STS_FBTP.SEP25\"\t\"Buy\"\t\"121.43\"\t\"1\"\t\"12 Jun 2025 13:28:47.982\"\n\"F.STS_FBTP.SEP25\"\t\"Sell\"\t\"121.41\"\t\"1\"\t\"12 Jun 2025 13:27:29.051\"\n\"F.STS_FBTP.SEP25\"\t\"Buy\"\t\"121.41\"\t\"1\"\t\"12 Jun 2025 13:17:38.783\"\n\"F.STS_FBTP.SEP25\"\t\"Sell\"\t\"121.41\"\t\"1\"\t\"12 Jun 2025 13:14:39.592\"\n\"F.STS_FBTP.SEP25\"\t\"Buy\"\t\"121.4\"\t\"1\"\t\"12 Jun 2025 13:03:58.746\"\n\"F.STS_FBTP.SEP25\"\t\"Sell\"\t\"121.38\"\t\"1\"\t\"12 Jun 2025 13:02:52.900\"\n\"F.STS_FBTP.SEP25\"\t\"Sell\"\t\"121.44\"\t\"1\"\t\"12 Jun 2025 12:17:22.612\"\n\"F.STS_FBTP.SEP25\"\t\"Buy\"\t\"121.47\"\t\"1\"\t\"12 Jun 2025 12:16:02.662\"\n\"F.STS_FBTP.SEP25\"\t\"Buy\"\t\"121.5\"\t\"1\"\t\"12 Jun 2025 11:31:22.525\"\n\"F.STS_FBTP.SEP25\"\t\"Sell\"\t\"121.48\"\t\"1\"\t\"12 Jun 2025 11:30:04.601\"\n\"F.STS_FBTP.SEP25\"\t\"Buy\"\t\"121.49\"\t\"1\"\t\"12 Jun 2025 11:15:20.802\"\n\"F.STS_FBTP.SEP25\"\t\"Sell\"\t\"121.47\"\t\"1\"\t\"12 Jun 2025 11:08:50.421\"\n\"F.STS_FBTP.SEP25\"\t\"Sell\"\t\"121.46\"\t\"1\"\t\"12 Jun 2025 11:08:23.307\"\n\"F.STS_FBTP.SEP25\"\t\"Buy\"\t\"121.49\"\t\"1\"\t\"12 Jun 2025 11:07:47.867\"\n\"F.STS_FBTP.SEP25\"\t\"Sell\"\t\"121.29\"\t\"1\"\t\"12 Jun 2025 10:26:25.953\"\n\"F.STS_FBTP.SEP25\"\t\"Buy\"\t\"121.31\"\t\"1\"\t\"12 Jun 2025 10:26:16.890\"\n\"F.STS_FBTP.SEP25\"\t\"Buy\"\t\"121.42\"\t\"1\"\t\"12 Jun 2025 10:01:32.162\"\n\"F.STS_FBTP.SEP25\"\t\"Sell\"\t\"121.39\"\t\"1\"\t\"12 Jun 2025 10:01:25.436\"\n\"F.STS_FBTP.SEP25\"\t\"Sell\"\t\"121.35\"\t\"1\"\t\"12 Jun 2025 09:51:38.465\"\n\"F.STS_FBTP.SEP25\"\t\"Buy\"\t\"121.37\"\t\"1\"\t\"12 Jun 2025 09:51:07.255\"\n\"F.STS_FBTP.SEP25\"\t\"Sell\"\t\"121.43\"\t\"1\"\t\"12 Jun 2025 09:44:57.096\"\n\"F.STS_FBTP.SEP25\"\t\"Buy\"\t\"121.43\"\t\"1\"\t\"12 Jun 2025 09:44:33.978\"\n\"F.STS_FBTP.SEP25\"\t\"Sell\"\t\"121.4\"\t\"1\"\t\"12 Jun 2025 09:27:11.703\"\n\"F.STS_FBTP.SEP25\"\t\"Buy\"\t\"121.4\"\t\"1\"\t\"12 Jun 2025 09:22:47.413\"\n\"F.STS_FBTP.SEP25\"\t\"Sell\"\t\"121.41\"\t\"1\"\t\"12 Jun 2025 09:21:54.484\"\n\"F.STS_FBTP.SEP25\"\t\"Buy\"\t\"121.41\"\t\"1\"\t\"12 Jun 2025 09:20:44.697\"\n\"F.STS_FBTP.SEP25\"\t\"Sell\"\t\"121.41\"\t\"1\"\t\"12 Jun 2025 09:20:04.158\"\n\"F.STS_FBTP.SEP25\"\t\"Buy\"\t\"121.41\"\t\"1\"\t\"12 Jun 2025 09:20:00.349\"\n\"F.STS_FBTP.SEP25\"\t\"Sell\"\t\"121.4\"\t\"1\"\t\"12 Jun 2025 09:18:34.100\"\n\"F.STS_FBTP.SEP25\"\t\"Buy\"\t\"121.39\"\t\"1\"\t\"12 Jun 2025 09:16:16.557\"\n\n'''",
      "metadata": {
        "trusted": true
      },
      "outputs": [],
      "execution_count": 6
    },
    {
      "id": "7c0c58ad-76c0-4efd-b501-b2df97177e1d",
      "cell_type": "markdown",
      "source": "## Step 3: Load and clean data and display data",
      "metadata": {
        "jp-MarkdownHeadingCollapsed": true
      }
    },
    {
      "id": "be770ce8-beec-4257-8d2f-cf736fb6f8b4",
      "cell_type": "code",
      "source": "df = pd.read_csv(StringIO(raw_data), sep='\\t')\ndf.columns = df.columns.str.replace('\"', '')\ndf = df.apply(lambda col: col.str.replace('\"', '') if col.dtype == \"object\" else col)\ndf['Price'] = df['Price'].astype(float)\ndf['Entry Timestamp'] = pd.to_datetime(df['Entry Timestamp'])\ndf = df.sort_values(by='Entry Timestamp').reset_index(drop=True)\n\n# === Step 3: Pair trades ===\ntrades = []\ni = 0\nwhile i < len(df) - 1:\n    entry = df.iloc[i]\n    exit_ = df.iloc[i + 1]\n\n    if entry['Buy/Sell'] == 'Buy' and exit_['Buy/Sell'] == 'Sell':\n        direction = 'Long'\n        pnl = round(exit_['Price'] - entry['Price'], 2)\n    elif entry['Buy/Sell'] == 'Sell' and exit_['Buy/Sell'] == 'Buy':\n        direction = 'Short'\n        pnl = round(entry['Price'] - exit_['Price'], 2)\n    else:\n        i += 1\n        continue\n\n    duration_sec = (exit_['Entry Timestamp'] - entry['Entry Timestamp']).total_seconds()\n    minutes = int(duration_sec // 60)\n    seconds = int(duration_sec % 60)\n    duration_str = f\"{minutes}m {seconds}s\"\n\n    trades.append({\n        'Direction': direction,\n        'Entry Time': entry['Entry Timestamp'],\n        'Exit Time': exit_['Entry Timestamp'],\n        'Entry Price': entry['Price'],\n        'Exit Price': exit_['Price'],\n        'PnL': pnl,\n        'Duration (sec)': duration_sec,\n        'Duration': duration_str\n    })\n\n    i += 2\n\ntrades_df = pd.DataFrame(trades)\n\n# === Step 4: Categorize and sort ===\nlong_trades = trades_df[trades_df['Direction'] == 'Long'].sort_values('Entry Time')\nshort_trades = trades_df[trades_df['Direction'] == 'Short'].sort_values('Entry Time')\n\nwinners = trades_df[trades_df['PnL'] > 0].sort_values('PnL', ascending=False)\nlosers = trades_df[trades_df['PnL'] < 0].sort_values('PnL', ascending=True)\nscratch = trades_df[trades_df['PnL'] == 0]\n\n# === Step 5: Summary Stats ===\navg_win_pnl = round(winners['PnL'].mean()*100,2)\navg_loss_pnl = round(losers['PnL'].mean()*100,2)\navg_win_time = winners['Duration (sec)'].mean()\navg_loss_time = losers['Duration (sec)'].mean()\navg_scratch_time = scratch['Duration (sec)'].mean() if not scratch.empty else 0\ntime_win_loss_ratio = avg_win_time / avg_loss_time if avg_loss_time else float('inf')\n\ntotal_win_time = winners['Duration (sec)'].sum()\ntotal_loss_time = losers['Duration (sec)'].sum()\ntotal_scratch_time = scratch['Duration (sec)'].sum()\ntotal_market_time = total_win_time + total_loss_time + total_scratch_time\n\nwin_pct = round(len(winners) / len(trades_df) if len(trades_df) > 0 else 0,2)\nexpected_value = round(win_pct * avg_win_pnl + (1 - win_pct) * avg_loss_pnl,2)\n\nover_min = trades_df[trades_df['Duration (sec)'] > 60]\navg_pnl_over_1_min = round(over_min['PnL'].mean()*100,1)\n\ndef format_time(seconds):\n    minutes = int(seconds // 60)\n    sec = int(seconds % 60)\n    return f\"{minutes}m {sec}s\"\n\nsummary_stats = pd.DataFrame({\n    'Metric': [\n        'Avg Win PnL', 'Avg Loss PnL', 'Win %', 'Expected Value',\n        'Avg Win Time', 'Avg Loss Time', 'Time Win/Loss Ratio',\n        'Total Time in Winners', 'Total Time in Losers', 'Total Time in Scratch',\n        'Total Time in Market', 'Avg Scratch Time', 'Avg PnL > 1 min'\n    ],\n    'Value': [\n        avg_win_pnl, avg_loss_pnl, win_pct * 100, expected_value,\n        format_time(avg_win_time), format_time(avg_loss_time), f\"{time_win_loss_ratio:.2f}\",\n        format_time(total_win_time), format_time(total_loss_time),\n        format_time(total_scratch_time), format_time(total_market_time),\n        format_time(avg_scratch_time), avg_pnl_over_1_min\n    ]\n})\n\n# === Step 6: Display Everything ===\ndef print_table(title, df):\n    print(f\"\\n=== {title} ===\")\n    if df.empty:\n        print(\"No data.\")\n    else:\n        print(df.to_string(index=False))\n\nprint_table(\"Sorted Winning Trades\", winners)\nprint_table(\"Sorted Losing Trades\", losers)\nprint_table(\"Scratch Trades\", scratch)\n\nprint(\"\\n=== Summary Stats ===\")\nprint(summary_stats.to_string(index=False))\n",
      "metadata": {
        "trusted": true
      },
      "outputs": [
        {
          "name": "stdout",
          "output_type": "stream",
          "text": "\n=== Sorted Winning Trades ===\nDirection              Entry Time               Exit Time  Entry Price  Exit Price  PnL  Duration (sec) Duration\n    Short 2025-06-12 15:24:22.389 2025-06-12 15:34:52.712       121.52      121.41 0.11         630.323  10m 30s\n     Long 2025-06-12 13:57:47.277 2025-06-12 14:00:24.637       121.44      121.50 0.06         157.360   2m 37s\n    Short 2025-06-12 14:11:51.769 2025-06-12 14:19:38.070       121.49      121.43 0.06         466.301   7m 46s\n    Short 2025-06-12 16:14:56.045 2025-06-12 16:20:32.100       121.52      121.47 0.05         336.055   5m 36s\n     Long 2025-06-12 09:16:16.557 2025-06-12 09:18:34.100       121.39      121.40 0.01         137.543   2m 17s\n\n=== Sorted Losing Trades ===\nDirection              Entry Time               Exit Time  Entry Price  Exit Price   PnL  Duration (sec) Duration\n    Short 2025-06-12 10:01:25.436 2025-06-12 10:01:32.162       121.39      121.42 -0.03           6.726    0m 6s\n     Long 2025-06-12 11:07:47.867 2025-06-12 11:08:23.307       121.49      121.46 -0.03          35.440   0m 35s\n    Short 2025-06-12 14:03:48.924 2025-06-12 14:04:02.609       121.50      121.53 -0.03          13.685   0m 13s\n     Long 2025-06-12 13:40:33.435 2025-06-12 13:41:52.801       121.42      121.39 -0.03          79.366   1m 19s\n     Long 2025-06-12 12:16:02.662 2025-06-12 12:17:22.612       121.47      121.44 -0.03          79.950   1m 19s\n     Long 2025-06-12 13:40:10.115 2025-06-12 13:40:19.185       121.45      121.42 -0.03           9.070    0m 9s\n     Long 2025-06-12 09:51:07.255 2025-06-12 09:51:38.465       121.37      121.35 -0.02          31.210   0m 31s\n     Long 2025-06-12 14:21:40.292 2025-06-12 14:21:41.706       121.40      121.38 -0.02           1.414    0m 1s\n     Long 2025-06-12 13:37:59.829 2025-06-12 13:38:11.565       121.46      121.44 -0.02          11.736   0m 11s\n    Short 2025-06-12 13:27:29.051 2025-06-12 13:28:47.982       121.41      121.43 -0.02          78.931   1m 18s\n     Long 2025-06-12 14:45:00.636 2025-06-12 14:45:14.490       121.39      121.37 -0.02          13.854   0m 13s\n    Short 2025-06-12 13:02:52.900 2025-06-12 13:03:58.746       121.38      121.40 -0.02          65.846    1m 5s\n    Short 2025-06-12 11:30:04.601 2025-06-12 11:31:22.525       121.48      121.50 -0.02          77.924   1m 17s\n    Short 2025-06-12 11:08:50.421 2025-06-12 11:15:20.802       121.47      121.49 -0.02         390.381   6m 30s\n     Long 2025-06-12 10:26:16.890 2025-06-12 10:26:25.953       121.31      121.29 -0.02           9.063    0m 9s\n     Long 2025-06-12 13:30:21.424 2025-06-12 13:36:16.639       121.48      121.46 -0.02         355.215   5m 55s\n     Long 2025-06-12 15:51:23.469 2025-06-12 15:51:49.311       121.47      121.45 -0.02          25.842   0m 25s\n\n=== Scratch Trades ===\nDirection              Entry Time               Exit Time  Entry Price  Exit Price  PnL  Duration (sec) Duration\n     Long 2025-06-12 09:20:00.349 2025-06-12 09:20:04.158       121.41      121.41  0.0           3.809    0m 3s\n     Long 2025-06-12 09:20:44.697 2025-06-12 09:21:54.484       121.41      121.41  0.0          69.787    1m 9s\n     Long 2025-06-12 09:22:47.413 2025-06-12 09:27:11.703       121.40      121.40  0.0         264.290   4m 24s\n     Long 2025-06-12 09:44:33.978 2025-06-12 09:44:57.096       121.43      121.43  0.0          23.118   0m 23s\n    Short 2025-06-12 13:14:39.592 2025-06-12 13:17:38.783       121.41      121.41  0.0         179.191   2m 59s\n    Short 2025-06-12 13:47:27.596 2025-06-12 13:55:07.565       121.44      121.44  0.0         459.969   7m 39s\n     Long 2025-06-12 14:04:03.653 2025-06-12 14:04:41.291       121.50      121.50  0.0          37.638   0m 37s\n    Short 2025-06-12 14:45:33.330 2025-06-12 14:45:41.594       121.39      121.39  0.0           8.264    0m 8s\n     Long 2025-06-12 15:01:06.022 2025-06-12 15:01:15.322       121.37      121.37  0.0           9.300    0m 9s\n\n=== Summary Stats ===\n               Metric   Value\n          Avg Win PnL     5.8\n         Avg Loss PnL   -2.35\n                Win %    16.0\n       Expected Value   -1.05\n         Avg Win Time  5m 45s\n        Avg Loss Time  1m 15s\n  Time Win/Loss Ratio    4.57\nTotal Time in Winners 28m 47s\n Total Time in Losers 21m 25s\nTotal Time in Scratch 17m 35s\n Total Time in Market 67m 48s\n     Avg Scratch Time  1m 57s\n      Avg PnL > 1 min     0.8\n"
        }
      ],
      "execution_count": 7
    }
  ]
}