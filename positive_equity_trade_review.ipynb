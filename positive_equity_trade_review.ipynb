{
  "metadata": {
    "kernelspec": {
      "name": "python",
      "display_name": "Python (Pyodide)",
      "language": "python"
    },
    "language_info": {
      "codemirror_mode": {
        "name": "python",
        "version": 3
      },
      "file_extension": ".py",
      "mimetype": "text/x-python",
      "name": "python",
      "nbconvert_exporter": "python",
      "pygments_lexer": "ipython3",
      "version": "3.8"
    }
  },
  "nbformat_minor": 5,
  "nbformat": 4,
  "cells": [
    {
      "id": "10153677-79ab-427a-8e47-01c91bbcbbfb",
      "cell_type": "markdown",
      "source": "## Step 1: Import Libraries",
      "metadata": {}
    },
    {
      "id": "7a7b7db2-9e86-40ff-b618-a51b08edae73",
      "cell_type": "code",
      "source": "import pandas as pd\nfrom io import StringIO",
      "metadata": {
        "trusted": true
      },
      "outputs": [],
      "execution_count": 1
    },
    {
      "id": "8b5c4a07-736f-40e6-b383-6cbd116b1a8c",
      "cell_type": "markdown",
      "source": "## Step 2: Paste your raw trade data \n\nWhere to get the data?\n\nOpen TradeAndRisk tab and copy and paste all your trades between the 3 commas in the cell below.\n\n1. Click the top trade (it should turn blue) \n2. Then scroll to the bottom\n3. Press SHIFT + Click on the last value at the bottom. All trades sould turn blue\n4. Press CTRL + C\n5. Paste BETWEEN 3 commas, do not delete the 3 commas",
      "metadata": {}
    },
    {
      "id": "b0d6fe37-7fec-44fb-9ebf-0bf99dbf53d3",
      "cell_type": "code",
      "source": "raw_data = '''\n\"ProductID\"\t\"Buy/Sell\"\t\"Price\"\t\"Volume\"\t\"Entry Timestamp\"\n\"F.STS_FBTP.SEP25\"\t\"Buy\"\t\"120.77\"\t\"1\"\t\"13 Jun 2025 16:22:20.067\"\n\"F.STS_FBTP.SEP25\"\t\"Sell\"\t\"120.75\"\t\"1\"\t\"13 Jun 2025 16:21:42.429\"\n\"F.STS_FBTP.SEP25\"\t\"Sell\"\t\"120.75\"\t\"1\"\t\"13 Jun 2025 16:19:19.134\"\n\"F.STS_FBTP.SEP25\"\t\"Buy\"\t\"120.77\"\t\"1\"\t\"13 Jun 2025 16:17:16.169\"\n\"F.STS_FBTP.SEP25\"\t\"Buy\"\t\"120.81\"\t\"1\"\t\"13 Jun 2025 15:59:16.146\"\n\"F.STS_FBTP.SEP25\"\t\"Sell\"\t\"120.79\"\t\"1\"\t\"13 Jun 2025 15:58:33.337\"\n\"F.STS_FBTP.SEP25\"\t\"Buy\"\t\"120.77\"\t\"1\"\t\"13 Jun 2025 15:53:55.053\"\n\"F.STS_FBTP.SEP25\"\t\"Sell\"\t\"120.85\"\t\"1\"\t\"13 Jun 2025 15:40:33.760\"\n\"F.STS_FBTP.SEP25\"\t\"Buy\"\t\"121.02\"\t\"1\"\t\"13 Jun 2025 15:11:25.879\"\n\"F.STS_FBTP.SEP25\"\t\"Sell\"\t\"121.08\"\t\"1\"\t\"13 Jun 2025 14:59:21.051\"\n\"F.STS_FBTP.SEP25\"\t\"Buy\"\t\"121.13\"\t\"1\"\t\"13 Jun 2025 14:20:59.272\"\n\"F.STS_FBTP.SEP25\"\t\"Sell\"\t\"121.11\"\t\"1\"\t\"13 Jun 2025 14:19:51.047\"\n\"F.STS_FBTP.SEP25\"\t\"Buy\"\t\"121.09\"\t\"1\"\t\"13 Jun 2025 14:15:40.525\"\n\"F.STS_FBTP.SEP25\"\t\"Sell\"\t\"121.11\"\t\"1\"\t\"13 Jun 2025 14:14:14.585\"\n\"F.STS_FBTP.SEP25\"\t\"Buy\"\t\"121.12\"\t\"1\"\t\"13 Jun 2025 13:57:33.122\"\n\"F.STS_FBTP.SEP25\"\t\"Sell\"\t\"121.15\"\t\"1\"\t\"13 Jun 2025 13:47:33.446\"\n\"F.STS_FBTP.SEP25\"\t\"Buy\"\t\"121.14\"\t\"1\"\t\"13 Jun 2025 13:46:46.561\"\n\"F.STS_FBTP.SEP25\"\t\"Sell\"\t\"121.14\"\t\"1\"\t\"13 Jun 2025 13:46:10.029\"\n\"F.STS_FBTP.SEP25\"\t\"Buy\"\t\"121.10\"\t\"1\"\t\"13 Jun 2025 10:48:43.269\"\n\"F.STS_FBTP.SEP25\"\t\"Sell\"\t\"121.14\"\t\"1\"\t\"13 Jun 2025 10:43:04.396\"\n\"F.STS_FBTP.SEP25\"\t\"Buy\"\t\"121.22\"\t\"1\"\t\"13 Jun 2025 10:24:54.088\"\n\"F.STS_FBTP.SEP25\"\t\"Sell\"\t\"121.20\"\t\"1\"\t\"13 Jun 2025 10:24:53.988\"\n\"F.STS_FBTP.SEP25\"\t\"Buy\"\t\"121.19\"\t\"1\"\t\"13 Jun 2025 10:20:47.145\"\n\"F.STS_FBTP.SEP25\"\t\"Sell\"\t\"121.17\"\t\"1\"\t\"13 Jun 2025 10:15:21.937\"\n\"F.STS_FBTP.SEP25\"\t\"Buy\"\t\"121.16\"\t\"1\"\t\"13 Jun 2025 10:12:40.244\"\n\"F.STS_FBTP.SEP25\"\t\"Sell\"\t\"121.24\"\t\"1\"\t\"13 Jun 2025 10:02:45.567\"\n\"F.STS_FBTP.SEP25\"\t\"Sell\"\t\"121.28\"\t\"1\"\t\"13 Jun 2025 10:00:46.146\"\n\"F.STS_FBTP.SEP25\"\t\"Buy\"\t\"121.28\"\t\"1\"\t\"13 Jun 2025 09:57:21.130\"\n\"F.STS_FBTP.SEP25\"\t\"Sell\"\t\"121.28\"\t\"1\"\t\"13 Jun 2025 09:56:18.479\"\n\"F.STS_FBTP.SEP25\"\t\"Buy\"\t\"121.30\"\t\"1\"\t\"13 Jun 2025 09:55:37.304\"\n\"F.STS_FBTP.SEP25\"\t\"Buy\"\t\"121.30\"\t\"1\"\t\"13 Jun 2025 09:52:32.982\"\n\"F.STS_FBTP.SEP25\"\t\"Sell\"\t\"121.29\"\t\"1\"\t\"13 Jun 2025 09:52:25.740\"\n\"F.STS_FBTP.SEP25\"\t\"Buy\"\t\"121.27\"\t\"1\"\t\"13 Jun 2025 09:51:45.569\"\n\"F.STS_FBTP.SEP25\"\t\"Sell\"\t\"121.27\"\t\"1\"\t\"13 Jun 2025 09:50:53.717\"\n\"F.STS_FBTP.SEP25\"\t\"Sell\"\t\"121.26\"\t\"1\"\t\"13 Jun 2025 09:47:50.175\"\n\"F.STS_FBTP.SEP25\"\t\"Buy\"\t\"121.26\"\t\"1\"\t\"13 Jun 2025 09:45:38.137\"\n\"F.STS_FBTP.SEP25\"\t\"Buy\"\t\"121.26\"\t\"1\"\t\"13 Jun 2025 09:44:26.653\"\n\"F.STS_FBTP.SEP25\"\t\"Sell\"\t\"121.24\"\t\"1\"\t\"13 Jun 2025 09:41:58.393\"\n\"F.STS_FBTP.SEP25\"\t\"Sell\"\t\"121.23\"\t\"1\"\t\"13 Jun 2025 09:40:29.256\"\n\"F.STS_FBTP.SEP25\"\t\"Buy\"\t\"121.25\"\t\"1\"\t\"13 Jun 2025 09:39:59.188\"\n\"F.STS_FBTP.SEP25\"\t\"Buy\"\t\"121.25\"\t\"1\"\t\"13 Jun 2025 09:39:25.043\"\n\"F.STS_FBTP.SEP25\"\t\"Sell\"\t\"121.25\"\t\"1\"\t\"13 Jun 2025 09:34:07.227\"\n\"F.STS_FBTP.SEP25\"\t\"Buy\"\t\"121.25\"\t\"1\"\t\"13 Jun 2025 09:33:50.274\"\n\"F.STS_FBTP.SEP25\"\t\"Sell\"\t\"121.24\"\t\"1\"\t\"13 Jun 2025 09:33:37.690\"\n\"F.STS_FBTP.SEP25\"\t\"Buy\"\t\"121.20\"\t\"1\"\t\"13 Jun 2025 09:22:30.281\"\n\"F.STS_FBTP.SEP25\"\t\"Sell\"\t\"121.21\"\t\"1\"\t\"13 Jun 2025 09:17:41.162\"\n\n'''",
      "metadata": {
        "trusted": true
      },
      "outputs": [],
      "execution_count": 2
    },
    {
      "id": "7c0c58ad-76c0-4efd-b501-b2df97177e1d",
      "cell_type": "markdown",
      "source": "## Step 3: Load and clean data and display data",
      "metadata": {}
    },
    {
      "id": "be770ce8-beec-4257-8d2f-cf736fb6f8b4",
      "cell_type": "code",
      "source": "df = pd.read_csv(StringIO(raw_data), sep='\\t')\ndf.columns = df.columns.str.replace('\"', '')\ndf = df.apply(lambda col: col.str.replace('\"', '') if col.dtype == \"object\" else col)\ndf['Price'] = df['Price'].astype(float)\ndf['Entry Timestamp'] = pd.to_datetime(df['Entry Timestamp'])\ndf = df.sort_values(by='Entry Timestamp').reset_index(drop=True)\n\n# === Pair trades ===\ntrades = []\ni = 0\nwhile i < len(df) - 1:\n    entry = df.iloc[i]\n    exit_ = df.iloc[i + 1]\n\n    if entry['Buy/Sell'] == 'Buy' and exit_['Buy/Sell'] == 'Sell':\n        direction = 'Long'\n        pnl = round(exit_['Price'] - entry['Price'], 2)\n    elif entry['Buy/Sell'] == 'Sell' and exit_['Buy/Sell'] == 'Buy':\n        direction = 'Short'\n        pnl = round(entry['Price'] - exit_['Price'], 2)\n    else:\n        i += 1\n        continue\n\n    duration_sec = (exit_['Entry Timestamp'] - entry['Entry Timestamp']).total_seconds()\n    minutes = int(duration_sec // 60)\n    seconds = int(duration_sec % 60)\n    duration_str = f\"{minutes}m {seconds}s\"\n\n    trades.append({\n        'Direction': direction,\n        'Entry Time': entry['Entry Timestamp'],\n        'Exit Time': exit_['Entry Timestamp'],\n        'Entry Price': entry['Price'],\n        'Exit Price': exit_['Price'],\n        'PnL': pnl,\n        'Duration (sec)': duration_sec,\n        'Duration': duration_str\n    })\n\n    i += 2\n\ntrades_df = pd.DataFrame(trades)\n\n# === Categorize and sort ===\nlong_trades = trades_df[trades_df['Direction'] == 'Long'].sort_values('Entry Time')\nshort_trades = trades_df[trades_df['Direction'] == 'Short'].sort_values('Entry Time')\n\nwinners = trades_df[trades_df['PnL'] > 0].sort_values('PnL', ascending=False)\nlosers = trades_df[trades_df['PnL'] < 0].sort_values('PnL', ascending=True)\nscratch = trades_df[trades_df['PnL'] == 0]\n\n# === Summary Stats ===\ndef format_time(seconds):\n    minutes = int(seconds // 60)\n    sec = int(seconds % 60)\n    return f\"{minutes}m {sec}s\"\n\navg_win_pnl = round(winners['PnL'].mean() * 100, 2)\navg_loss_pnl = round(losers['PnL'].mean() * 100, 2)\nwin_pct = round(len(winners) / len(trades_df) * 100, 2) if len(trades_df) > 0 else 0\nexpected_value = round((win_pct / 100 * avg_win_pnl + (1 - win_pct / 100) * avg_loss_pnl), 2)\n\navg_win_time = winners['Duration (sec)'].mean()\navg_loss_time = losers['Duration (sec)'].mean()\navg_scratch_time = scratch['Duration (sec)'].mean() if not scratch.empty else 0\ntime_win_loss_ratio = avg_win_time / avg_loss_time if avg_loss_time else float('inf')\n\ntotal_win_time = winners['Duration (sec)'].sum()\ntotal_loss_time = losers['Duration (sec)'].sum()\ntotal_scratch_time = scratch['Duration (sec)'].sum()\ntotal_market_time = total_win_time + total_loss_time + total_scratch_time\n\nover_min = trades_df[trades_df['Duration (sec)'] > 60]\navg_pnl_over_1_min = round(over_min['PnL'].mean() * 100, 1)\n\n# === Grouped Summary Sections ===\nsections = {\n    'PnL Metrics': [\n        ('Avg Win PnL', f\"{avg_win_pnl} Ticks\"),\n        ('Avg Loss PnL', f\"{avg_loss_pnl} Ticks\"),\n        ('Win %', f\"{win_pct}%\"),\n        ('Expected Value', f\"{expected_value} Ticks\"),\n        ('Avg PnL for trades > 1 min', f\"{avg_pnl_over_1_min} Ticks\")\n    ],\n    'Time Metrics': [\n        ('Avg Win Time', format_time(avg_win_time)),\n        ('Avg Loss Time', format_time(avg_loss_time)),\n        ('Avg Scratch Time', format_time(avg_scratch_time)),\n        ('Time in Win:Loss Ratio', f\"{time_win_loss_ratio:.2f}\")\n    ],\n    'Total Time Metrics': [\n        ('Total Time in Winners', format_time(total_win_time)),\n        ('Total Time in Losers', format_time(total_loss_time)),\n        ('Total Time in Scratch', format_time(total_scratch_time)),\n        ('Total Time in Market', format_time(total_market_time))\n    ]\n}\n\n# === Print Grouped Summary ===\nfor section, metrics in sections.items():\n    print(f\"\\n=== {section} ===\")\n    for name, value in metrics:\n        print(f\"{name}: {value}\")\n\n# === Display Trades Tables ===\ndef print_table(title, df):\n    print(f\"\\n=== {title} ===\")\n    if df.empty:\n        print(\"No data.\")\n    else:\n        print(df.to_string(index=False))\n\nprint_table(\"Sorted Winning Trades\", winners)\nprint_table(\"Sorted Losing Trades\", losers)\nprint_table(\"Scratch Trades\", scratch)\n",
      "metadata": {
        "trusted": true,
        "scrolled": true
      },
      "outputs": [
        {
          "name": "stdout",
          "output_type": "stream",
          "text": "\n=== PnL Metrics ===\nAvg Win PnL: 4.57 Ticks\nAvg Loss PnL: -1.82 Ticks\nWin %: 30.43%\nExpected Value: 0.12 Ticks\nAvg PnL for trades > 1 min: 1.7 Ticks\n\n=== Time Metrics ===\nAvg Win Time: 8m 10s\nAvg Loss Time: 1m 16s\nAvg Scratch Time: 2m 28s\nTime in Win:Loss Ratio: 6.45\n\n=== Total Time Metrics ===\nTotal Time in Winners: 57m 14s\nTotal Time in Losers: 13m 56s\nTotal Time in Scratch: 12m 23s\nTotal Time in Market: 83m 33s\n\n=== Sorted Winning Trades ===\nDirection              Entry Time               Exit Time  Entry Price  Exit Price  PnL  Duration (sec) Duration\n    Short 2025-06-13 10:02:45.567 2025-06-13 10:12:40.244       121.24      121.16 0.08         594.677   9m 54s\n    Short 2025-06-13 15:40:33.760 2025-06-13 15:53:55.053       120.85      120.77 0.08         801.293  13m 21s\n    Short 2025-06-13 14:59:21.051 2025-06-13 15:11:25.879       121.08      121.02 0.06         724.828   12m 4s\n    Short 2025-06-13 10:43:04.396 2025-06-13 10:48:43.269       121.14      121.10 0.04         338.873   5m 38s\n    Short 2025-06-13 13:47:33.446 2025-06-13 13:57:33.122       121.15      121.12 0.03         599.676   9m 59s\n    Short 2025-06-13 14:14:14.585 2025-06-13 14:15:40.525       121.11      121.09 0.02          85.940   1m 25s\n    Short 2025-06-13 09:17:41.162 2025-06-13 09:22:30.281       121.21      121.20 0.01         289.119   4m 49s\n\n=== Sorted Losing Trades ===\nDirection              Entry Time               Exit Time  Entry Price  Exit Price   PnL  Duration (sec) Duration\n     Long 2025-06-13 09:39:59.188 2025-06-13 09:40:29.256       121.25      121.23 -0.02          30.068   0m 30s\n    Short 2025-06-13 09:41:58.393 2025-06-13 09:44:26.653       121.24      121.26 -0.02         148.260   2m 28s\n     Long 2025-06-13 09:55:37.304 2025-06-13 09:56:18.479       121.30      121.28 -0.02          41.175   0m 41s\n    Short 2025-06-13 10:15:21.937 2025-06-13 10:20:47.145       121.17      121.19 -0.02         325.208   5m 25s\n    Short 2025-06-13 10:24:53.988 2025-06-13 10:24:54.088       121.20      121.22 -0.02           0.100    0m 0s\n    Short 2025-06-13 14:19:51.047 2025-06-13 14:20:59.272       121.11      121.13 -0.02          68.225    1m 8s\n    Short 2025-06-13 15:58:33.337 2025-06-13 15:59:16.146       120.79      120.81 -0.02          42.809   0m 42s\n     Long 2025-06-13 16:17:16.169 2025-06-13 16:19:19.134       120.77      120.75 -0.02         122.965    2m 2s\n    Short 2025-06-13 16:21:42.429 2025-06-13 16:22:20.067       120.75      120.77 -0.02          37.638   0m 37s\n    Short 2025-06-13 09:33:37.690 2025-06-13 09:33:50.274       121.24      121.25 -0.01          12.584   0m 12s\n    Short 2025-06-13 09:52:25.740 2025-06-13 09:52:32.982       121.29      121.30 -0.01           7.242    0m 7s\n\n=== Scratch Trades ===\nDirection              Entry Time               Exit Time  Entry Price  Exit Price  PnL  Duration (sec) Duration\n    Short 2025-06-13 09:34:07.227 2025-06-13 09:39:25.043       121.25      121.25  0.0         317.816   5m 17s\n     Long 2025-06-13 09:45:38.137 2025-06-13 09:47:50.175       121.26      121.26  0.0         132.038   2m 12s\n    Short 2025-06-13 09:50:53.717 2025-06-13 09:51:45.569       121.27      121.27  0.0          51.852   0m 51s\n     Long 2025-06-13 09:57:21.130 2025-06-13 10:00:46.146       121.28      121.28  0.0         205.016   3m 25s\n    Short 2025-06-13 13:46:10.029 2025-06-13 13:46:46.561       121.14      121.14  0.0          36.532   0m 36s\n"
        }
      ],
      "execution_count": 3
    },
    {
      "id": "2cbf92eb-240a-4f21-9570-5ff18278d9bb",
      "cell_type": "code",
      "source": "",
      "metadata": {
        "trusted": true
      },
      "outputs": [],
      "execution_count": null
    }
  ]
}
